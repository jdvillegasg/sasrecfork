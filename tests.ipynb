{
 "cells": [
  {
   "cell_type": "code",
   "execution_count": 3,
   "metadata": {},
   "outputs": [],
   "source": [
    "import pickle\n",
    "\n",
    "with open(\"data/PreProcessInfoAll_Beauty.pkl\", 'rb') as f:\n",
    "    a = pickle.load(f)"
   ]
  },
  {
   "cell_type": "code",
   "execution_count": 5,
   "metadata": {},
   "outputs": [],
   "source": [
    "class Dict2Class(object): \n",
    "    def __init__(self, my_dict): \n",
    "        for key in my_dict: \n",
    "            setattr(self, key, my_dict[key]) "
   ]
  },
  {
   "cell_type": "code",
   "execution_count": null,
   "metadata": {},
   "outputs": [],
   "source": [
    "from model import SASRec\n",
    "import os\n",
    "import torch\n",
    "\n",
    "save_dir_pre_process = 'data'\n",
    "dataset_name = 'All_Beauty'\n",
    "train_dir = '_default'\n",
    "\n",
    "args = dict()\n",
    "with open(os.path.join(dataset_name+train_dir, 'args.txt'), 'r') as f:\n",
    "    for line in f.read().split('\\n'):\n",
    "        l = line.split(',')\n",
    "        args[l[0]] = l[1]\n",
    "\n",
    "for key, val in args.items():\n",
    "    if val == 'None':\n",
    "        args[key] = None\n",
    "    else:\n",
    "        try:\n",
    "            aux_val = float(val)\n",
    "            if len(val.split('.')) > 0: # float\n",
    "                args[key] = aux_val\n",
    "            else:\n",
    "                args[key] = int(val)\n",
    "        except Exception as e:\n",
    "            print(e)\n",
    "\n",
    "args = Dict2Class(args)\n",
    "with open(os.path.join(save_dir_pre_process, 'PreProcessInfo' + dataset_name + '.txt'), 'rb') as f:\n",
    "    info = pickle.load(f)\n"
   ]
  },
  {
   "cell_type": "code",
   "execution_count": null,
   "metadata": {},
   "outputs": [],
   "source": [
    "model_dir_path = dataset_name + train_dir\n",
    "model = SASRec(info[\"usernum\"], info[\"itemnum\"], args)\n",
    "model.load_state_dict(torch.load(model_dir_path))\n",
    "model.eval()"
   ]
  }
 ],
 "metadata": {
  "kernelspec": {
   "display_name": "datascience",
   "language": "python",
   "name": "python3"
  },
  "language_info": {
   "codemirror_mode": {
    "name": "ipython",
    "version": 3
   },
   "file_extension": ".py",
   "mimetype": "text/x-python",
   "name": "python",
   "nbconvert_exporter": "python",
   "pygments_lexer": "ipython3",
   "version": "3.12.4"
  }
 },
 "nbformat": 4,
 "nbformat_minor": 2
}
